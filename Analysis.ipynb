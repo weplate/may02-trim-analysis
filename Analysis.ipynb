{
 "cells": [
  {
   "cell_type": "markdown",
   "metadata": {},
   "source": [
    "# General Notes\n",
    "\n",
    "* Every student + meal combination was ran through the algorithm\n",
    "* Combinations were grouped by\n",
    "    * Sex\n",
    "    * Algorithm choice\n",
    "    * Meal day + time\n",
    "* Deltas are averaged out over entire group\n",
    "    * Nan=0\n",
    "\n",
    "Notion page of metrics: https://www.notion.so/weplate/Cafeteria-Management-System-d51d6976bf2d4cc7b73f06fc9a7ca77c"
   ]
  },
  {
   "cell_type": "code",
   "execution_count": 69,
   "metadata": {},
   "outputs": [
    {
     "name": "stdout",
     "output_type": "stream",
     "text": [
      "Requirement already satisfied: matplotlib in c:\\users\\moses\\appdata\\local\\programs\\python\\python37\\lib\\site-packages (3.5.2)\n",
      "Requirement already satisfied: fonttools>=4.22.0 in c:\\users\\moses\\appdata\\local\\programs\\python\\python37\\lib\\site-packages (from matplotlib) (4.33.3)\n"
     ]
    },
    {
     "name": "stderr",
     "output_type": "stream",
     "text": [
      "WARNING: You are using pip version 21.0.1; however, version 22.1 is available.\n",
      "You should consider upgrading via the 'c:\\users\\moses\\appdata\\local\\programs\\python\\python37\\python.exe -m pip install --upgrade pip' command.\n"
     ]
    },
    {
     "name": "stdout",
     "output_type": "stream",
     "text": [
      "Requirement already satisfied: packaging>=20.0 in c:\\users\\moses\\appdata\\local\\programs\\python\\python37\\lib\\site-packages (from matplotlib) (20.4)\n",
      "Requirement already satisfied: pillow>=6.2.0 in c:\\users\\moses\\appdata\\local\\programs\\python\\python37\\lib\\site-packages (from matplotlib) (9.1.1)\n",
      "Requirement already satisfied: python-dateutil>=2.7 in c:\\users\\moses\\appdata\\local\\programs\\python\\python37\\lib\\site-packages (from matplotlib) (2.8.1)\n",
      "Requirement already satisfied: numpy>=1.17 in c:\\users\\moses\\appdata\\local\\programs\\python\\python37\\lib\\site-packages (from matplotlib) (1.17.4)\n",
      "Requirement already satisfied: kiwisolver>=1.0.1 in c:\\users\\moses\\appdata\\local\\programs\\python\\python37\\lib\\site-packages (from matplotlib) (1.4.2)\n",
      "Requirement already satisfied: pyparsing>=2.2.1 in c:\\users\\moses\\appdata\\local\\programs\\python\\python37\\lib\\site-packages (from matplotlib) (2.4.7)\n",
      "Requirement already satisfied: cycler>=0.10 in c:\\users\\moses\\appdata\\local\\programs\\python\\python37\\lib\\site-packages (from matplotlib) (0.11.0)\n",
      "Requirement already satisfied: typing-extensions in c:\\users\\moses\\appdata\\local\\programs\\python\\python37\\lib\\site-packages (from kiwisolver>=1.0.1->matplotlib) (3.7.4.3)\n",
      "Requirement already satisfied: six in c:\\users\\moses\\appdata\\local\\programs\\python\\python37\\lib\\site-packages (from packaging>=20.0->matplotlib) (1.11.0)\n",
      "Requirement already satisfied: pandas in c:\\users\\moses\\appdata\\local\\programs\\python\\python37\\lib\\site-packages (1.3.5)\n",
      "Requirement already satisfied: pytz>=2017.3 in c:\\users\\moses\\appdata\\local\\programs\\python\\python37\\lib\\site-packages (from pandas) (2019.1)\n",
      "Requirement already satisfied: numpy>=1.17.3 in c:\\users\\moses\\appdata\\local\\programs\\python\\python37\\lib\\site-packages (from pandas) (1.17.4)"
     ]
    },
    {
     "name": "stderr",
     "output_type": "stream",
     "text": [
      "WARNING: You are using pip version 21.0.1; however, version 22.1 is available.\n",
      "You should consider upgrading via the 'c:\\users\\moses\\appdata\\local\\programs\\python\\python37\\python.exe -m pip install --upgrade pip' command.\n"
     ]
    },
    {
     "name": "stdout",
     "output_type": "stream",
     "text": [
      "\n",
      "Requirement already satisfied: python-dateutil>=2.7.3 in c:\\users\\moses\\appdata\\local\\programs\\python\\python37\\lib\\site-packages (from pandas) (2.8.1)\n",
      "Requirement already satisfied: six>=1.5 in c:\\users\\moses\\appdata\\local\\programs\\python\\python37\\lib\\site-packages (from python-dateutil>=2.7.3->pandas) (1.11.0)\n"
     ]
    }
   ],
   "source": [
    "import sys\n",
    "!{sys.executable} -m pip install matplotlib\n",
    "!{sys.executable} -m pip install pandas"
   ]
  },
  {
   "cell_type": "code",
   "execution_count": 70,
   "metadata": {},
   "outputs": [
    {
     "name": "stdout",
     "output_type": "stream",
     "text": [
      "Limit Labels: ['protein_lim', 'carbohydrate_lim', 'calories_lim', 'total_fat_lim', 'saturated_fat_lim', 'sodium_lim', 'calcium_lim', 'iron_lim', 'vitamin_a_lim', 'vitamin_c_lim', 'vitamin_d_lim', 'sugar_lim', 'cholesterol_lim', 'fiber_lim', 'potassium_lim']\n",
      "\n",
      "Delta Labels: ['protein_delta', 'carbohydrate_delta', 'calories_delta', 'total_fat_delta', 'saturated_fat_delta', 'sodium_delta', 'calcium_delta', 'iron_delta', 'vitamin_a_delta', 'vitamin_c_delta', 'vitamin_d_delta', 'sugar_delta', 'cholesterol_delta', 'fiber_delta', 'potassium_delta']\n",
      "\n",
      "Index(['Date', 'Name', 'Num_Unique_Combinations', 'Combination',\n",
      "       'Student_Number', 'Sex', 'Height', 'Weight', 'Health_Goal', 'Activity',\n",
      "       'protein', 'carbohydrate', 'calories', 'total_fat', 'saturated_fat',\n",
      "       'sodium', 'calcium', 'iron', 'vitamin_a', 'vitamin_c', 'vitamin_d',\n",
      "       'sugar', 'cholesterol', 'fiber', 'potassium', 'protein_lim',\n",
      "       'carbohydrate_lim', 'calories_lim', 'total_fat_lim',\n",
      "       'saturated_fat_lim', 'sodium_lim', 'calcium_lim', 'iron_lim',\n",
      "       'vitamin_a_lim', 'vitamin_c_lim', 'vitamin_d_lim', 'sugar_lim',\n",
      "       'cholesterol_lim', 'fiber_lim', 'potassium_lim', 'protein_delta',\n",
      "       'carbohydrate_delta', 'calories_delta', 'total_fat_delta',\n",
      "       'saturated_fat_delta', 'sodium_delta', 'calcium_delta', 'iron_delta',\n",
      "       'vitamin_a_delta', 'vitamin_c_delta', 'vitamin_d_delta', 'sugar_delta',\n",
      "       'cholesterol_delta', 'fiber_delta', 'potassium_delta', 'Num_Deficit',\n",
      "       'Num_Surplus', 'Num_Meet'],\n",
      "      dtype='object')\n"
     ]
    }
   ],
   "source": [
    "import matplotlib as mpl\n",
    "import matplotlib.pyplot as plt\n",
    "import pandas as pd\n",
    "\n",
    "df = pd.read_csv('female_male_summary_fixed_1.csv')\n",
    "df_item = pd.read_csv('nutrition_table.csv')\n",
    "\n",
    "label_lim = [l for l in df.columns if '_lim' in l]\n",
    "label_delta = [l for l in df.columns if '_delta' in l]\n",
    "\n",
    "print(f'Limit Labels: {label_lim}\\n')\n",
    "print(f'Delta Labels: {label_delta}\\n')\n",
    "print(df.columns)"
   ]
  },
  {
   "cell_type": "markdown",
   "metadata": {},
   "source": [
    "# Male and Female Samples\n",
    "* Example male (with traits)\n",
    "* Example female (with traits)\n",
    "* Nutrient limits for male\n",
    "* Nutrient limits for female"
   ]
  },
  {
   "cell_type": "code",
   "execution_count": 71,
   "metadata": {},
   "outputs": [],
   "source": [
    "# Limit examples with male and female\n",
    "\n",
    "rand_male = df[df['Sex'] == 'MALE'].sample()\n",
    "rand_female = df[df['Sex'] == 'FEMALE'].sample()\n",
    "\n",
    "label_student = ['Student_Number', 'Sex', 'Height', 'Weight', 'Health_Goal', 'Activity']"
   ]
  },
  {
   "cell_type": "code",
   "execution_count": 72,
   "metadata": {},
   "outputs": [
    {
     "data": {
      "text/html": [
       "<div>\n",
       "<style scoped>\n",
       "    .dataframe tbody tr th:only-of-type {\n",
       "        vertical-align: middle;\n",
       "    }\n",
       "\n",
       "    .dataframe tbody tr th {\n",
       "        vertical-align: top;\n",
       "    }\n",
       "\n",
       "    .dataframe thead th {\n",
       "        text-align: right;\n",
       "    }\n",
       "</style>\n",
       "<table border=\"1\" class=\"dataframe\">\n",
       "  <thead>\n",
       "    <tr style=\"text-align: right;\">\n",
       "      <th></th>\n",
       "      <th>Student_Number</th>\n",
       "      <th>Sex</th>\n",
       "      <th>Height</th>\n",
       "      <th>Weight</th>\n",
       "      <th>Health_Goal</th>\n",
       "      <th>Activity</th>\n",
       "    </tr>\n",
       "  </thead>\n",
       "  <tbody>\n",
       "    <tr>\n",
       "      <th>5081</th>\n",
       "      <td>27</td>\n",
       "      <td>MALE</td>\n",
       "      <td>170.642784</td>\n",
       "      <td>89.306815</td>\n",
       "      <td>improve_health</td>\n",
       "      <td>heavy</td>\n",
       "    </tr>\n",
       "  </tbody>\n",
       "</table>\n",
       "</div>"
      ],
      "text/plain": [
       "      Student_Number   Sex      Height     Weight     Health_Goal Activity\n",
       "5081              27  MALE  170.642784  89.306815  improve_health    heavy"
      ]
     },
     "execution_count": 72,
     "metadata": {},
     "output_type": "execute_result"
    }
   ],
   "source": [
    "rand_male.get(label_student)"
   ]
  },
  {
   "cell_type": "code",
   "execution_count": 73,
   "metadata": {},
   "outputs": [
    {
     "data": {
      "text/html": [
       "<div>\n",
       "<style scoped>\n",
       "    .dataframe tbody tr th:only-of-type {\n",
       "        vertical-align: middle;\n",
       "    }\n",
       "\n",
       "    .dataframe tbody tr th {\n",
       "        vertical-align: top;\n",
       "    }\n",
       "\n",
       "    .dataframe thead th {\n",
       "        text-align: right;\n",
       "    }\n",
       "</style>\n",
       "<table border=\"1\" class=\"dataframe\">\n",
       "  <thead>\n",
       "    <tr style=\"text-align: right;\">\n",
       "      <th></th>\n",
       "      <th>protein_lim</th>\n",
       "      <th>carbohydrate_lim</th>\n",
       "      <th>calories_lim</th>\n",
       "      <th>total_fat_lim</th>\n",
       "      <th>saturated_fat_lim</th>\n",
       "      <th>sodium_lim</th>\n",
       "      <th>calcium_lim</th>\n",
       "      <th>iron_lim</th>\n",
       "      <th>vitamin_a_lim</th>\n",
       "      <th>vitamin_c_lim</th>\n",
       "      <th>vitamin_d_lim</th>\n",
       "      <th>sugar_lim</th>\n",
       "      <th>cholesterol_lim</th>\n",
       "      <th>fiber_lim</th>\n",
       "      <th>potassium_lim</th>\n",
       "    </tr>\n",
       "  </thead>\n",
       "  <tbody>\n",
       "    <tr>\n",
       "      <th>5081</th>\n",
       "      <td>[23.815150786666667, 29.768938483333333]</td>\n",
       "      <td>[148.84469241666667, 178.6136309]</td>\n",
       "      <td>[1060.4794972715802, 1434.7663786615494]</td>\n",
       "      <td>[6.666666666666667, 8.333333333333334]</td>\n",
       "      <td>[0, 3.3333333333333335]</td>\n",
       "      <td>[500.0, 1333.3333333333333]</td>\n",
       "      <td>[333.3333333333333, 833.3333333333334]</td>\n",
       "      <td>[2.6666666666666665, 15.0]</td>\n",
       "      <td>[1000.0, 3333.3333333333335]</td>\n",
       "      <td>[30.0, 666.6666666666666]</td>\n",
       "      <td>[200.0, 1333.3333333333333]</td>\n",
       "      <td>[0, 9.0]</td>\n",
       "      <td>[0, 100.0]</td>\n",
       "      <td>[10.0, 333333.3333333333]</td>\n",
       "      <td>[1000.0, 333333.3333333333]</td>\n",
       "    </tr>\n",
       "  </tbody>\n",
       "</table>\n",
       "</div>"
      ],
      "text/plain": [
       "                                   protein_lim  \\\n",
       "5081  [23.815150786666667, 29.768938483333333]   \n",
       "\n",
       "                       carbohydrate_lim  \\\n",
       "5081  [148.84469241666667, 178.6136309]   \n",
       "\n",
       "                                  calories_lim  \\\n",
       "5081  [1060.4794972715802, 1434.7663786615494]   \n",
       "\n",
       "                               total_fat_lim        saturated_fat_lim  \\\n",
       "5081  [6.666666666666667, 8.333333333333334]  [0, 3.3333333333333335]   \n",
       "\n",
       "                       sodium_lim                             calcium_lim  \\\n",
       "5081  [500.0, 1333.3333333333333]  [333.3333333333333, 833.3333333333334]   \n",
       "\n",
       "                        iron_lim                 vitamin_a_lim  \\\n",
       "5081  [2.6666666666666665, 15.0]  [1000.0, 3333.3333333333335]   \n",
       "\n",
       "                  vitamin_c_lim                vitamin_d_lim sugar_lim  \\\n",
       "5081  [30.0, 666.6666666666666]  [200.0, 1333.3333333333333]  [0, 9.0]   \n",
       "\n",
       "     cholesterol_lim                  fiber_lim                potassium_lim  \n",
       "5081      [0, 100.0]  [10.0, 333333.3333333333]  [1000.0, 333333.3333333333]  "
      ]
     },
     "execution_count": 73,
     "metadata": {},
     "output_type": "execute_result"
    }
   ],
   "source": [
    "rand_male.get(label_lim)"
   ]
  },
  {
   "cell_type": "code",
   "execution_count": 74,
   "metadata": {},
   "outputs": [
    {
     "data": {
      "text/html": [
       "<div>\n",
       "<style scoped>\n",
       "    .dataframe tbody tr th:only-of-type {\n",
       "        vertical-align: middle;\n",
       "    }\n",
       "\n",
       "    .dataframe tbody tr th {\n",
       "        vertical-align: top;\n",
       "    }\n",
       "\n",
       "    .dataframe thead th {\n",
       "        text-align: right;\n",
       "    }\n",
       "</style>\n",
       "<table border=\"1\" class=\"dataframe\">\n",
       "  <thead>\n",
       "    <tr style=\"text-align: right;\">\n",
       "      <th></th>\n",
       "      <th>Student_Number</th>\n",
       "      <th>Sex</th>\n",
       "      <th>Height</th>\n",
       "      <th>Weight</th>\n",
       "      <th>Health_Goal</th>\n",
       "      <th>Activity</th>\n",
       "    </tr>\n",
       "  </thead>\n",
       "  <tbody>\n",
       "    <tr>\n",
       "      <th>92792</th>\n",
       "      <td>31</td>\n",
       "      <td>FEMALE</td>\n",
       "      <td>147.19505</td>\n",
       "      <td>71.761309</td>\n",
       "      <td>improve_health</td>\n",
       "      <td>mild</td>\n",
       "    </tr>\n",
       "  </tbody>\n",
       "</table>\n",
       "</div>"
      ],
      "text/plain": [
       "       Student_Number     Sex     Height     Weight     Health_Goal Activity\n",
       "92792              31  FEMALE  147.19505  71.761309  improve_health     mild"
      ]
     },
     "execution_count": 74,
     "metadata": {},
     "output_type": "execute_result"
    }
   ],
   "source": [
    "rand_female.get(label_student)"
   ]
  },
  {
   "cell_type": "code",
   "execution_count": 75,
   "metadata": {},
   "outputs": [
    {
     "data": {
      "text/html": [
       "<div>\n",
       "<style scoped>\n",
       "    .dataframe tbody tr th:only-of-type {\n",
       "        vertical-align: middle;\n",
       "    }\n",
       "\n",
       "    .dataframe tbody tr th {\n",
       "        vertical-align: top;\n",
       "    }\n",
       "\n",
       "    .dataframe thead th {\n",
       "        text-align: right;\n",
       "    }\n",
       "</style>\n",
       "<table border=\"1\" class=\"dataframe\">\n",
       "  <thead>\n",
       "    <tr style=\"text-align: right;\">\n",
       "      <th></th>\n",
       "      <th>protein_lim</th>\n",
       "      <th>carbohydrate_lim</th>\n",
       "      <th>calories_lim</th>\n",
       "      <th>total_fat_lim</th>\n",
       "      <th>saturated_fat_lim</th>\n",
       "      <th>sodium_lim</th>\n",
       "      <th>calcium_lim</th>\n",
       "      <th>iron_lim</th>\n",
       "      <th>vitamin_a_lim</th>\n",
       "      <th>vitamin_c_lim</th>\n",
       "      <th>vitamin_d_lim</th>\n",
       "      <th>sugar_lim</th>\n",
       "      <th>cholesterol_lim</th>\n",
       "      <th>fiber_lim</th>\n",
       "      <th>potassium_lim</th>\n",
       "    </tr>\n",
       "  </thead>\n",
       "  <tbody>\n",
       "    <tr>\n",
       "      <th>92792</th>\n",
       "      <td>[19.136348992000002, 23.92043624]</td>\n",
       "      <td>[119.6021812, 143.52261744]</td>\n",
       "      <td>[603.3904420188521, 816.351774496094]</td>\n",
       "      <td>[6.666666666666667, 8.333333333333334]</td>\n",
       "      <td>[0, 3.3333333333333335]</td>\n",
       "      <td>[500.0, 1333.3333333333333]</td>\n",
       "      <td>[333.3333333333333, 833.3333333333334]</td>\n",
       "      <td>[2.6666666666666665, 15.0]</td>\n",
       "      <td>[1000.0, 3333.3333333333335]</td>\n",
       "      <td>[30.0, 666.6666666666666]</td>\n",
       "      <td>[200.0, 1333.3333333333333]</td>\n",
       "      <td>[0, 9.0]</td>\n",
       "      <td>[0, 100.0]</td>\n",
       "      <td>[10.0, 333333.3333333333]</td>\n",
       "      <td>[1000.0, 333333.3333333333]</td>\n",
       "    </tr>\n",
       "  </tbody>\n",
       "</table>\n",
       "</div>"
      ],
      "text/plain": [
       "                             protein_lim             carbohydrate_lim  \\\n",
       "92792  [19.136348992000002, 23.92043624]  [119.6021812, 143.52261744]   \n",
       "\n",
       "                                calories_lim  \\\n",
       "92792  [603.3904420188521, 816.351774496094]   \n",
       "\n",
       "                                total_fat_lim        saturated_fat_lim  \\\n",
       "92792  [6.666666666666667, 8.333333333333334]  [0, 3.3333333333333335]   \n",
       "\n",
       "                        sodium_lim                             calcium_lim  \\\n",
       "92792  [500.0, 1333.3333333333333]  [333.3333333333333, 833.3333333333334]   \n",
       "\n",
       "                         iron_lim                 vitamin_a_lim  \\\n",
       "92792  [2.6666666666666665, 15.0]  [1000.0, 3333.3333333333335]   \n",
       "\n",
       "                   vitamin_c_lim                vitamin_d_lim sugar_lim  \\\n",
       "92792  [30.0, 666.6666666666666]  [200.0, 1333.3333333333333]  [0, 9.0]   \n",
       "\n",
       "      cholesterol_lim                  fiber_lim                potassium_lim  \n",
       "92792      [0, 100.0]  [10.0, 333333.3333333333]  [1000.0, 333333.3333333333]  "
      ]
     },
     "execution_count": 75,
     "metadata": {},
     "output_type": "execute_result"
    }
   ],
   "source": [
    "rand_female.get(label_lim)"
   ]
  },
  {
   "cell_type": "markdown",
   "metadata": {},
   "source": [
    "# Valid Combinations\n",
    "* Graph number of combinations (y-axis) with X nutrients inside range (x-axis)\n",
    "* Nutrients (x-axis), Number of times it’s within range (out of total) (y-axis)"
   ]
  },
  {
   "cell_type": "code",
   "execution_count": 76,
   "metadata": {},
   "outputs": [
    {
     "name": "stdout",
     "output_type": "stream",
     "text": [
      "Total # of Combinations: 186966\n",
      "Total # of nutrients: 15\n"
     ]
    },
    {
     "data": {
      "image/png": "[encoded data removed]",
      "text/plain": [
       "<Figure size 432x288 with 1 Axes>"
      ]
     },
     "metadata": {
      "needs_background": "light"
     },
     "output_type": "display_data"
    }
   ],
   "source": [
    "fig, ax = plt.subplots()\n",
    "\n",
    "# redefine num_meet\n",
    "n_count = len(label_lim)  # number of nutrients\n",
    "df['Num_Meet'] = [n_count - a - b for a, b in zip(df['Num_Deficit'], df['Num_Surplus'])]\n",
    "\n",
    "ax.hist(df['Num_Meet'])\n",
    "ax.set_xlabel('Number of Nutrients Within Range')\n",
    "ax.set_ylabel('Number of Combinations')\n",
    "ax.set_title('Distribution of Number of Nutrients Within Range Per Combination')\n",
    "\n",
    "print(f'Total # of Combinations: {len(df)}')\n",
    "print(f'Total # of nutrients: {n_count}')"
   ]
  },
  {
   "cell_type": "code",
   "execution_count": 77,
   "metadata": {},
   "outputs": [
    {
     "name": "stdout",
     "output_type": "stream",
     "text": [
      "Total # of Combinations: 186966\n"
     ]
    },
    {
     "data": {
      "image/png": "[encoded data removed]",
      "text/plain": [
       "<Figure size 432x288 with 1 Axes>"
      ]
     },
     "metadata": {
      "needs_background": "light"
     },
     "output_type": "display_data"
    }
   ],
   "source": [
    "df_count_by_n = pd.DataFrame(((n[:-6], df[n].isna().sum()) for n in label_delta))\n",
    "plt.axes(title='Total # of Times a Nutrient is Within Range',\n",
    "         ylabel='# of Combinations Within Range',\n",
    "         ylim=(0, len(df)))\n",
    "plt.xticks(rotation=90)\n",
    "plt.bar(df_count_by_n[0], df_count_by_n[1])\n",
    "\n",
    "print(f'Total # of Combinations: {len(df)}')"
   ]
  },
  {
   "cell_type": "code",
   "execution_count": 78,
   "metadata": {},
   "outputs": [
    {
     "name": "stdout",
     "output_type": "stream",
     "text": [
      "Total # of Combinations: 186966\n"
     ]
    },
    {
     "data": {
      "image/png": "[encoded data removed]",
      "text/plain": [
       "<Figure size 432x288 with 1 Axes>"
      ]
     },
     "metadata": {
      "needs_background": "light"
     },
     "output_type": "display_data"
    }
   ],
   "source": [
    "df_count_by_n = pd.DataFrame(((n[:-6], (df[n] > 0).sum() / len(df)) for n in label_delta))\n",
    "plt.axes(title='% where Nutrient is Above Range',\n",
    "         ylabel='%',\n",
    "         ylim=(0, 1))\n",
    "plt.xticks(rotation=90)\n",
    "plt.bar(df_count_by_n[0], df_count_by_n[1])\n",
    "\n",
    "print(f'Total # of Combinations: {len(df)}')"
   ]
  },
  {
   "cell_type": "code",
   "execution_count": 79,
   "metadata": {
    "scrolled": true
   },
   "outputs": [
    {
     "name": "stdout",
     "output_type": "stream",
     "text": [
      "Total # of Combinations: 186966\n"
     ]
    },
    {
     "data": {
      "image/png": "[encoded data removed]",
      "text/plain": [
       "<Figure size 432x288 with 1 Axes>"
      ]
     },
     "metadata": {
      "needs_background": "light"
     },
     "output_type": "display_data"
    }
   ],
   "source": [
    "df_count_by_n = pd.DataFrame(((n[:-6], (df[n] < 0).sum() / len(df)) for n in label_delta))\n",
    "plt.axes(title='Total % a Nutrient is Below Range',\n",
    "         ylabel='% of Combinations Below Range',\n",
    "         ylim=(0, 1))\n",
    "plt.xticks(rotation=90)\n",
    "plt.bar(df_count_by_n[0], df_count_by_n[1])\n",
    "\n",
    "print(f'Total # of Combinations: {len(df)}')"
   ]
  },
  {
   "cell_type": "code",
   "execution_count": 80,
   "metadata": {
    "scrolled": true
   },
   "outputs": [
    {
     "name": "stdout",
     "output_type": "stream",
     "text": [
      "Total # of Combinations: 186966\n"
     ]
    },
    {
     "data": {
      "image/png": "[encoded data removed]",
      "text/plain": [
       "<Figure size 432x288 with 1 Axes>"
      ]
     },
     "metadata": {
      "needs_background": "light"
     },
     "output_type": "display_data"
    }
   ],
   "source": [
    "df_count_by_n = pd.DataFrame(((n[:-6], 1 - df[n].isna().sum() / len(df)) for n in label_delta))\n",
    "plt.axes(title='Total % a Nutrient is Out Of Range',\n",
    "         ylabel='% of Combinations Out Of Range',\n",
    "         ylim=(0, 1))\n",
    "plt.xticks(rotation=90)\n",
    "plt.bar(df_count_by_n[0], df_count_by_n[1])\n",
    "\n",
    "print(f'Total # of Combinations: {len(df)}')"
   ]
  },
  {
   "cell_type": "markdown",
   "metadata": {},
   "source": [
    "## More Valid Combinations\n",
    "\n",
    "* Let's try varying the weight of certain nutrients so that the algorithm tries and optimize for that first\n",
    "    * Question: are some nutrients fundamentally unreachable?"
   ]
  },
  {
   "cell_type": "code",
   "execution_count": 82,
   "metadata": {},
   "outputs": [
    {
     "name": "stdout",
     "output_type": "stream",
     "text": [
      "Ratios are how often the nutrient is out of range out of all combinations\n"
     ]
    },
    {
     "data": {
      "text/html": [
       "<div>\n",
       "<style scoped>\n",
       "    .dataframe tbody tr th:only-of-type {\n",
       "        vertical-align: middle;\n",
       "    }\n",
       "\n",
       "    .dataframe tbody tr th {\n",
       "        vertical-align: top;\n",
       "    }\n",
       "\n",
       "    .dataframe thead th {\n",
       "        text-align: right;\n",
       "    }\n",
       "</style>\n",
       "<table border=\"1\" class=\"dataframe\">\n",
       "  <thead>\n",
       "    <tr style=\"text-align: right;\">\n",
       "      <th></th>\n",
       "      <th>nutrient</th>\n",
       "      <th>before_weight_adjust</th>\n",
       "      <th>after_weight_adjust</th>\n",
       "    </tr>\n",
       "  </thead>\n",
       "  <tbody>\n",
       "    <tr>\n",
       "      <th>0</th>\n",
       "      <td>protein</td>\n",
       "      <td>0.882583</td>\n",
       "      <td>0.724263</td>\n",
       "    </tr>\n",
       "    <tr>\n",
       "      <th>1</th>\n",
       "      <td>carbohydrate</td>\n",
       "      <td>0.887081</td>\n",
       "      <td>0.891208</td>\n",
       "    </tr>\n",
       "  </tbody>\n",
       "</table>\n",
       "</div>"
      ],
      "text/plain": [
       "       nutrient  before_weight_adjust  after_weight_adjust\n",
       "0       protein              0.882583             0.724263\n",
       "1  carbohydrate              0.887081             0.891208"
      ]
     },
     "execution_count": 82,
     "metadata": {},
     "output_type": "execute_result"
    }
   ],
   "source": [
    "w_nutrients = ['protein', 'carbohydrate']\n",
    "\n",
    "def in_range(lim_obj, value):\n",
    "    l, r = eval(str(lim_obj))\n",
    "    return l <= value <= r\n",
    "\n",
    "df_weighted_ratios = df_count_by_n[df_count_by_n[0].isin(w_nutrients)]\n",
    "\n",
    "bad_ratios = []\n",
    "for nutrient in w_nutrients:\n",
    "    df_male = pd.read_csv(f'weight_experiment/test_may_{nutrient}_male.csv')\n",
    "    df_female = pd.read_csv(f'weight_experiment/test_may_{nutrient}_female.csv')\n",
    "    df_both_sex = pd.concat((df_male, df_female))\n",
    "    \n",
    "    count_ok = df_both_sex.apply(lambda row: in_range(row[f'{nutrient}_lim'], row[nutrient]), axis=1).sum()\n",
    "    count_all = len(df_both_sex)\n",
    "    bad_ratios.append(1 - count_ok / count_all)\n",
    "\n",
    "df_weighted_ratios = df_weighted_ratios.rename(\n",
    "    columns={\n",
    "        0: 'nutrient',\n",
    "        1: 'before_weight_adjust'\n",
    "    }\n",
    ")\n",
    "df_weighted_ratios['after_weight_adjust'] = bad_ratios\n",
    "    \n",
    "print('Ratios are how often the nutrient is out of range out of all combinations')\n",
    "df_weighted_ratios"
   ]
  },
  {
   "cell_type": "markdown",
   "metadata": {},
   "source": [
    "# Menu Score\n",
    "\n",
    "## Valid Combination Calculation\n"
   ]
  },
  {
   "cell_type": "code",
   "execution_count": 83,
   "metadata": {},
   "outputs": [
    {
     "data": {
      "image/png": "[encoded data removed]",
      "text/plain": [
       "<Figure size 432x288 with 1 Axes>"
      ]
     },
     "metadata": {
      "needs_background": "light"
     },
     "output_type": "display_data"
    }
   ],
   "source": [
    "import math\n",
    "\n",
    "label_macro = [\n",
    "    'protein_delta', 'carbohydrate_delta', 'calories_delta', 'total_fat_delta', 'saturated_fat_delta'\n",
    "]\n",
    "label_micro = [\n",
    "    'sodium_delta', 'calcium_delta', 'iron_delta',\n",
    "    'vitamin_a_delta', 'vitamin_c_delta', 'vitamin_d_delta', 'sugar_delta',\n",
    "    'cholesterol_delta', 'fiber_delta', 'potassium_delta'\n",
    "]\n",
    "\n",
    "CAL_WEIGHT = 4\n",
    "MACRO_WEIGHT = 6 / len(label_macro)\n",
    "MICRO_WEIGHT = 3 / len(label_micro)\n",
    "\n",
    "def score(row):\n",
    "    return math.isnan(row['calories_delta']) * CAL_WEIGHT + \\\n",
    "            sum(math.isnan(row[n]) for n in label_macro) * MACRO_WEIGHT + \\\n",
    "            sum(math.isnan(row[n]) for n in label_micro) * MICRO_WEIGHT\n",
    "\n",
    "max_score = 4 + 6 + 3\n",
    "\n",
    "df['score'] = df.apply(score, axis=1)\n",
    "\n",
    "plt.axes(title='Histogram of Scores Across Combinations',\n",
    "         xlabel='Score', ylabel='# of Combinations',\n",
    "         xlim=(0, max_score))\n",
    "plt.hist(df['score'])\n",
    "plt.show()"
   ]
  },
  {
   "cell_type": "code",
   "execution_count": 84,
   "metadata": {},
   "outputs": [
    {
     "name": "stdout",
     "output_type": "stream",
     "text": [
      "max possible score: 13\n",
      "Below, some quantiles score (i.e. last row is 95th percentile of scores, and a combination that is on that edge (around exactly 95th percentile)\n"
     ]
    },
    {
     "data": {
      "text/html": [
       "<div>\n",
       "<style scoped>\n",
       "    .dataframe tbody tr th:only-of-type {\n",
       "        vertical-align: middle;\n",
       "    }\n",
       "\n",
       "    .dataframe tbody tr th {\n",
       "        vertical-align: top;\n",
       "    }\n",
       "\n",
       "    .dataframe thead th {\n",
       "        text-align: right;\n",
       "    }\n",
       "</style>\n",
       "<table border=\"1\" class=\"dataframe\">\n",
       "  <thead>\n",
       "    <tr style=\"text-align: right;\">\n",
       "      <th></th>\n",
       "      <th>Num_Unique_Combinations</th>\n",
       "      <th>Student_Number</th>\n",
       "      <th>Height</th>\n",
       "      <th>Weight</th>\n",
       "      <th>protein</th>\n",
       "      <th>carbohydrate</th>\n",
       "      <th>calories</th>\n",
       "      <th>total_fat</th>\n",
       "      <th>saturated_fat</th>\n",
       "      <th>sodium</th>\n",
       "      <th>...</th>\n",
       "      <th>vitamin_c_delta</th>\n",
       "      <th>vitamin_d_delta</th>\n",
       "      <th>sugar_delta</th>\n",
       "      <th>cholesterol_delta</th>\n",
       "      <th>fiber_delta</th>\n",
       "      <th>potassium_delta</th>\n",
       "      <th>Num_Deficit</th>\n",
       "      <th>Num_Surplus</th>\n",
       "      <th>Num_Meet</th>\n",
       "      <th>score</th>\n",
       "    </tr>\n",
       "  </thead>\n",
       "  <tbody>\n",
       "    <tr>\n",
       "      <th>0.50</th>\n",
       "      <td>146.0</td>\n",
       "      <td>25.0</td>\n",
       "      <td>166.512837</td>\n",
       "      <td>81.513243</td>\n",
       "      <td>38.883284</td>\n",
       "      <td>117.113191</td>\n",
       "      <td>938.634539</td>\n",
       "      <td>34.204050</td>\n",
       "      <td>7.000000</td>\n",
       "      <td>1853.013204</td>\n",
       "      <td>...</td>\n",
       "      <td>-11.325152</td>\n",
       "      <td>-195.000000</td>\n",
       "      <td>13.345346</td>\n",
       "      <td>70.000000</td>\n",
       "      <td>-2.607600</td>\n",
       "      <td>-233.173133</td>\n",
       "      <td>4.0</td>\n",
       "      <td>5.0</td>\n",
       "      <td>6.0</td>\n",
       "      <td>4.2</td>\n",
       "    </tr>\n",
       "    <tr>\n",
       "      <th>0.75</th>\n",
       "      <td>189.0</td>\n",
       "      <td>38.0</td>\n",
       "      <td>173.668894</td>\n",
       "      <td>90.723626</td>\n",
       "      <td>52.964310</td>\n",
       "      <td>145.773304</td>\n",
       "      <td>1103.768970</td>\n",
       "      <td>45.701628</td>\n",
       "      <td>11.961788</td>\n",
       "      <td>2537.146798</td>\n",
       "      <td>...</td>\n",
       "      <td>-5.964194</td>\n",
       "      <td>-180.000000</td>\n",
       "      <td>23.543042</td>\n",
       "      <td>183.440345</td>\n",
       "      <td>-1.190075</td>\n",
       "      <td>-103.482117</td>\n",
       "      <td>5.0</td>\n",
       "      <td>6.0</td>\n",
       "      <td>7.0</td>\n",
       "      <td>6.7</td>\n",
       "    </tr>\n",
       "    <tr>\n",
       "      <th>0.80</th>\n",
       "      <td>207.0</td>\n",
       "      <td>40.0</td>\n",
       "      <td>175.062621</td>\n",
       "      <td>92.265567</td>\n",
       "      <td>56.335258</td>\n",
       "      <td>152.105024</td>\n",
       "      <td>1147.170606</td>\n",
       "      <td>49.111287</td>\n",
       "      <td>13.174748</td>\n",
       "      <td>2733.613554</td>\n",
       "      <td>...</td>\n",
       "      <td>-4.703309</td>\n",
       "      <td>-173.372013</td>\n",
       "      <td>26.402920</td>\n",
       "      <td>239.218165</td>\n",
       "      <td>-0.986637</td>\n",
       "      <td>-77.536214</td>\n",
       "      <td>6.0</td>\n",
       "      <td>6.0</td>\n",
       "      <td>7.0</td>\n",
       "      <td>7.0</td>\n",
       "    </tr>\n",
       "    <tr>\n",
       "      <th>0.85</th>\n",
       "      <td>215.0</td>\n",
       "      <td>43.0</td>\n",
       "      <td>175.921293</td>\n",
       "      <td>95.191023</td>\n",
       "      <td>61.020906</td>\n",
       "      <td>159.862576</td>\n",
       "      <td>1200.496733</td>\n",
       "      <td>53.607087</td>\n",
       "      <td>15.000000</td>\n",
       "      <td>3011.476125</td>\n",
       "      <td>...</td>\n",
       "      <td>-3.469642</td>\n",
       "      <td>-165.000000</td>\n",
       "      <td>31.441902</td>\n",
       "      <td>397.055465</td>\n",
       "      <td>-0.732897</td>\n",
       "      <td>-58.086606</td>\n",
       "      <td>6.0</td>\n",
       "      <td>7.0</td>\n",
       "      <td>7.0</td>\n",
       "      <td>7.6</td>\n",
       "    </tr>\n",
       "    <tr>\n",
       "      <th>0.90</th>\n",
       "      <td>237.0</td>\n",
       "      <td>45.0</td>\n",
       "      <td>178.150434</td>\n",
       "      <td>97.085163</td>\n",
       "      <td>67.409690</td>\n",
       "      <td>170.550594</td>\n",
       "      <td>1275.955828</td>\n",
       "      <td>58.985481</td>\n",
       "      <td>17.500000</td>\n",
       "      <td>3403.832991</td>\n",
       "      <td>...</td>\n",
       "      <td>-2.140186</td>\n",
       "      <td>-149.342507</td>\n",
       "      <td>38.179922</td>\n",
       "      <td>522.433847</td>\n",
       "      <td>-0.570027</td>\n",
       "      <td>-36.940406</td>\n",
       "      <td>7.0</td>\n",
       "      <td>7.0</td>\n",
       "      <td>8.0</td>\n",
       "      <td>7.9</td>\n",
       "    </tr>\n",
       "    <tr>\n",
       "      <th>0.95</th>\n",
       "      <td>268.0</td>\n",
       "      <td>48.0</td>\n",
       "      <td>181.165948</td>\n",
       "      <td>100.263728</td>\n",
       "      <td>79.855365</td>\n",
       "      <td>186.960053</td>\n",
       "      <td>1392.086715</td>\n",
       "      <td>67.756520</td>\n",
       "      <td>21.125425</td>\n",
       "      <td>4166.400239</td>\n",
       "      <td>...</td>\n",
       "      <td>-0.942851</td>\n",
       "      <td>-100.000000</td>\n",
       "      <td>48.500000</td>\n",
       "      <td>1289.225165</td>\n",
       "      <td>-0.291111</td>\n",
       "      <td>-17.322710</td>\n",
       "      <td>8.0</td>\n",
       "      <td>8.0</td>\n",
       "      <td>8.0</td>\n",
       "      <td>8.5</td>\n",
       "    </tr>\n",
       "  </tbody>\n",
       "</table>\n",
       "<p>6 rows × 38 columns</p>\n",
       "</div>"
      ],
      "text/plain": [
       "      Num_Unique_Combinations  Student_Number      Height      Weight  \\\n",
       "0.50                    146.0            25.0  166.512837   81.513243   \n",
       "0.75                    189.0            38.0  173.668894   90.723626   \n",
       "0.80                    207.0            40.0  175.062621   92.265567   \n",
       "0.85                    215.0            43.0  175.921293   95.191023   \n",
       "0.90                    237.0            45.0  178.150434   97.085163   \n",
       "0.95                    268.0            48.0  181.165948  100.263728   \n",
       "\n",
       "        protein  carbohydrate     calories  total_fat  saturated_fat  \\\n",
       "0.50  38.883284    117.113191   938.634539  34.204050       7.000000   \n",
       "0.75  52.964310    145.773304  1103.768970  45.701628      11.961788   \n",
       "0.80  56.335258    152.105024  1147.170606  49.111287      13.174748   \n",
       "0.85  61.020906    159.862576  1200.496733  53.607087      15.000000   \n",
       "0.90  67.409690    170.550594  1275.955828  58.985481      17.500000   \n",
       "0.95  79.855365    186.960053  1392.086715  67.756520      21.125425   \n",
       "\n",
       "           sodium  ...  vitamin_c_delta  vitamin_d_delta  sugar_delta  \\\n",
       "0.50  1853.013204  ...       -11.325152      -195.000000    13.345346   \n",
       "0.75  2537.146798  ...        -5.964194      -180.000000    23.543042   \n",
       "0.80  2733.613554  ...        -4.703309      -173.372013    26.402920   \n",
       "0.85  3011.476125  ...        -3.469642      -165.000000    31.441902   \n",
       "0.90  3403.832991  ...        -2.140186      -149.342507    38.179922   \n",
       "0.95  4166.400239  ...        -0.942851      -100.000000    48.500000   \n",
       "\n",
       "      cholesterol_delta  fiber_delta  potassium_delta  Num_Deficit  \\\n",
       "0.50          70.000000    -2.607600      -233.173133          4.0   \n",
       "0.75         183.440345    -1.190075      -103.482117          5.0   \n",
       "0.80         239.218165    -0.986637       -77.536214          6.0   \n",
       "0.85         397.055465    -0.732897       -58.086606          6.0   \n",
       "0.90         522.433847    -0.570027       -36.940406          7.0   \n",
       "0.95        1289.225165    -0.291111       -17.322710          8.0   \n",
       "\n",
       "      Num_Surplus  Num_Meet  score  \n",
       "0.50          5.0       6.0    4.2  \n",
       "0.75          6.0       7.0    6.7  \n",
       "0.80          6.0       7.0    7.0  \n",
       "0.85          7.0       7.0    7.6  \n",
       "0.90          7.0       8.0    7.9  \n",
       "0.95          8.0       8.0    8.5  \n",
       "\n",
       "[6 rows x 38 columns]"
      ]
     },
     "execution_count": 84,
     "metadata": {},
     "output_type": "execute_result"
    }
   ],
   "source": [
    "print(f'max possible score: {max_score}')\n",
    "\n",
    "QUANTILES = [0.5, 0.75, 0.8, 0.85, 0.9, 0.95]\n",
    "df_quantiles = df.sort_values('score').quantile(QUANTILES)\n",
    "\n",
    "print('Below, some quantiles score (i.e. last row is 95th percentile of scores, and a combination that is on that edge (around exactly 95th percentile)')\n",
    "df_quantiles"
   ]
  },
  {
   "cell_type": "code",
   "execution_count": 85,
   "metadata": {},
   "outputs": [
    {
     "name": "stdout",
     "output_type": "stream",
     "text": [
      "We set the min score for a valid combination to be 7.9\n"
     ]
    }
   ],
   "source": [
    "VALID_COMBINATION_SCORE = 7.9\n",
    "print(f'We set the min score for a valid combination to be {VALID_COMBINATION_SCORE}')\n",
    "\n",
    "df['is_valid'] = df['score'] >= VALID_COMBINATION_SCORE"
   ]
  },
  {
   "cell_type": "markdown",
   "metadata": {},
   "source": [
    "# Valid Combination Graphs\n",
    "* Histogram of # of Valid Combinations of Meals\n",
    "    * Histogram for different meal categories\n",
    "    * Example ratio of combinations for a breakfast, lunch, dinner (choose the worst ones)\n",
    "        * Alex please get the costs later\n",
    "    * Most common out of range nutrients\n",
    "    * num of combinations for different meal categories"
   ]
  },
  {
   "cell_type": "code",
   "execution_count": 86,
   "metadata": {},
   "outputs": [
    {
     "data": {
      "text/plain": [
       "(array([28., 14., 15., 15.,  4.,  6.,  1.,  0.,  2.,  1.]),\n",
       " array([   0. ,  125.9,  251.8,  377.7,  503.6,  629.5,  755.4,  881.3,\n",
       "        1007.2, 1133.1, 1259. ]),\n",
       " <BarContainer object of 10 artists>)"
      ]
     },
     "execution_count": 86,
     "metadata": {},
     "output_type": "execute_result"
    },
    {
     "data": {
      "image/png": "[encoded data removed]",
      "text/plain": [
       "<Figure size 432x288 with 1 Axes>"
      ]
     },
     "metadata": {
      "needs_background": "light"
     },
     "output_type": "display_data"
    }
   ],
   "source": [
    "df['category'] = df['Name'].map(lambda x: x.split()[0].lower())\n",
    "\n",
    "df_valid = df.where(df['category'] != 'afterlunch') \\\n",
    "             .get(['Name', 'is_valid']) \\\n",
    "             .groupby('Name').sum()\n",
    "\n",
    "plt.axes(title='Histogram of # of Valid Combinations Across Menus',\n",
    "         xlabel='# of valid combinations',\n",
    "         ylabel='# of Menus')\n",
    "plt.hist(df_valid)"
   ]
  },
  {
   "cell_type": "code",
   "execution_count": 87,
   "metadata": {},
   "outputs": [
    {
     "name": "stdout",
     "output_type": "stream",
     "text": [
      "Below are some of the 'best' menus (menus with most # of valid combinations)\n"
     ]
    },
    {
     "data": {
      "text/html": [
       "<div>\n",
       "<style scoped>\n",
       "    .dataframe tbody tr th:only-of-type {\n",
       "        vertical-align: middle;\n",
       "    }\n",
       "\n",
       "    .dataframe tbody tr th {\n",
       "        vertical-align: top;\n",
       "    }\n",
       "\n",
       "    .dataframe thead th {\n",
       "        text-align: right;\n",
       "    }\n",
       "</style>\n",
       "<table border=\"1\" class=\"dataframe\">\n",
       "  <thead>\n",
       "    <tr style=\"text-align: right;\">\n",
       "      <th></th>\n",
       "      <th>Name</th>\n",
       "      <th>is_valid</th>\n",
       "      <th>Num_Unique_Combinations</th>\n",
       "    </tr>\n",
       "  </thead>\n",
       "  <tbody>\n",
       "    <tr>\n",
       "      <th>0</th>\n",
       "      <td>Dinner on Friday, March 25, 2022</td>\n",
       "      <td>1259</td>\n",
       "      <td>430</td>\n",
       "    </tr>\n",
       "    <tr>\n",
       "      <th>1</th>\n",
       "      <td>Dinner on Wednesday, March 23, 2022</td>\n",
       "      <td>1100</td>\n",
       "      <td>306</td>\n",
       "    </tr>\n",
       "    <tr>\n",
       "      <th>2</th>\n",
       "      <td>Dinner on Friday, March 11, 2022</td>\n",
       "      <td>1016</td>\n",
       "      <td>156</td>\n",
       "    </tr>\n",
       "    <tr>\n",
       "      <th>3</th>\n",
       "      <td>Dinner on Thursday, March 17, 2022</td>\n",
       "      <td>798</td>\n",
       "      <td>327</td>\n",
       "    </tr>\n",
       "    <tr>\n",
       "      <th>4</th>\n",
       "      <td>Dinner on Friday, April 01, 2022</td>\n",
       "      <td>717</td>\n",
       "      <td>162</td>\n",
       "    </tr>\n",
       "  </tbody>\n",
       "</table>\n",
       "</div>"
      ],
      "text/plain": [
       "                                  Name  is_valid  Num_Unique_Combinations\n",
       "0     Dinner on Friday, March 25, 2022      1259                      430\n",
       "1  Dinner on Wednesday, March 23, 2022      1100                      306\n",
       "2     Dinner on Friday, March 11, 2022      1016                      156\n",
       "3   Dinner on Thursday, March 17, 2022       798                      327\n",
       "4     Dinner on Friday, April 01, 2022       717                      162"
      ]
     },
     "execution_count": 87,
     "metadata": {},
     "output_type": "execute_result"
    }
   ],
   "source": [
    "print('Below are some of the \\'best\\' menus (menus with most # of valid combinations)')\n",
    "df_valid.sort_values('is_valid', ascending=False) \\\n",
    "        .merge(df.get(['Name', 'Num_Unique_Combinations']).drop_duplicates(), on='Name', how='left') \\\n",
    "        .head()"
   ]
  },
  {
   "cell_type": "code",
   "execution_count": 88,
   "metadata": {},
   "outputs": [
    {
     "data": {
      "text/plain": [
       "<matplotlib.legend.Legend at 0x2089b644860>"
      ]
     },
     "execution_count": 88,
     "metadata": {},
     "output_type": "execute_result"
    },
    {
     "data": {
      "image/png": "[encoded data removed]",
      "text/plain": [
       "<Figure size 432x288 with 1 Axes>"
      ]
     },
     "metadata": {
      "needs_background": "light"
     },
     "output_type": "display_data"
    }
   ],
   "source": [
    "CATEGORIES = ['breakfast', 'lunch', 'dinner']\n",
    "\n",
    "values = []\n",
    "for category in CATEGORIES:\n",
    "    df_valid = df.where(df['category'] == category) \\\n",
    "             .get(['Name', 'is_valid']) \\\n",
    "             .groupby('Name').sum()['is_valid']\n",
    "    values.append(df_valid)\n",
    "\n",
    "plt.axes(title='Histogram of # of Valid Combinations Across Menus (split by category)',\n",
    "         xlabel='# of valid combinations',\n",
    "         ylabel='# of Menus')\n",
    "plt.hist(values, label=CATEGORIES)\n",
    "plt.legend(prop={'size': 10})"
   ]
  },
  {
   "cell_type": "code",
   "execution_count": 89,
   "metadata": {
    "scrolled": true
   },
   "outputs": [
    {
     "name": "stdout",
     "output_type": "stream",
     "text": [
      "Average number of (total) combinations across categories\n"
     ]
    },
    {
     "data": {
      "text/html": [
       "<div>\n",
       "<style scoped>\n",
       "    .dataframe tbody tr th:only-of-type {\n",
       "        vertical-align: middle;\n",
       "    }\n",
       "\n",
       "    .dataframe tbody tr th {\n",
       "        vertical-align: top;\n",
       "    }\n",
       "\n",
       "    .dataframe thead th {\n",
       "        text-align: right;\n",
       "    }\n",
       "</style>\n",
       "<table border=\"1\" class=\"dataframe\">\n",
       "  <thead>\n",
       "    <tr style=\"text-align: right;\">\n",
       "      <th></th>\n",
       "      <th>Num_Unique_Combinations</th>\n",
       "    </tr>\n",
       "    <tr>\n",
       "      <th>category</th>\n",
       "      <th></th>\n",
       "    </tr>\n",
       "  </thead>\n",
       "  <tbody>\n",
       "    <tr>\n",
       "      <th>afterlunch</th>\n",
       "      <td>27.454545</td>\n",
       "    </tr>\n",
       "    <tr>\n",
       "      <th>breakfast</th>\n",
       "      <td>56.892857</td>\n",
       "    </tr>\n",
       "    <tr>\n",
       "      <th>dinner</th>\n",
       "      <td>196.400000</td>\n",
       "    </tr>\n",
       "    <tr>\n",
       "      <th>lunch</th>\n",
       "      <td>113.357143</td>\n",
       "    </tr>\n",
       "  </tbody>\n",
       "</table>\n",
       "</div>"
      ],
      "text/plain": [
       "            Num_Unique_Combinations\n",
       "category                           \n",
       "afterlunch                27.454545\n",
       "breakfast                 56.892857\n",
       "dinner                   196.400000\n",
       "lunch                    113.357143"
      ]
     },
     "execution_count": 89,
     "metadata": {},
     "output_type": "execute_result"
    }
   ],
   "source": [
    "print(f'Average number of (total) combinations across categories')\n",
    "df_category_avg = df.get(['Name', 'Num_Unique_Combinations', 'category']) \\\n",
    "  .drop_duplicates() \\\n",
    "  .get(['Num_Unique_Combinations', 'category']) \\\n",
    "  .groupby('category') \\\n",
    "  .mean()\n",
    "df_category_avg"
   ]
  },
  {
   "cell_type": "code",
   "execution_count": 90,
   "metadata": {},
   "outputs": [
    {
     "name": "stdout",
     "output_type": "stream",
     "text": [
      "Mean of breakfast: 2.1870684243565597\n",
      "Mean of lunch: 3.282923755513547\n",
      "Mean of dinner: 1.99847250509165\n"
     ]
    },
    {
     "data": {
      "image/png": "[encoded data removed]",
      "text/plain": [
       "<Figure size 432x288 with 1 Axes>"
      ]
     },
     "metadata": {
      "needs_background": "light"
     },
     "output_type": "display_data"
    }
   ],
   "source": [
    "CATEGORIES = ['breakfast', 'lunch', 'dinner']\n",
    "\n",
    "values = []\n",
    "for category in CATEGORIES:\n",
    "    category_avg = df_category_avg.loc[category]['Num_Unique_Combinations']\n",
    "    df_valid = df.where(df['category'] == category) \\\n",
    "             .get(['Name', 'is_valid']) \\\n",
    "             .groupby('Name').sum()['is_valid'] \\\n",
    "             .map(lambda x: x / category_avg)\n",
    "    values.append(df_valid)\n",
    "\n",
    "plt.axes(title='Histogram of ratio of Valid Combinations Across Menus (split by category, out of total valid combinations)',\n",
    "         xlabel='Ratio of combinations that are valid',\n",
    "         ylabel='# of Menus')\n",
    "plt.hist(values, label=CATEGORIES)\n",
    "plt.legend(prop={'size': 10})\n",
    "\n",
    "for df_cur, category in zip(values, CATEGORIES):\n",
    "    print(f'Mean of {category}: {df_cur.mean()}')"
   ]
  },
  {
   "cell_type": "code",
   "execution_count": 91,
   "metadata": {
    "scrolled": false
   },
   "outputs": [
    {
     "data": {
      "image/png": "[encoded data removed]",
      "text/plain": [
       "<Figure size 1332x756 with 4 Axes>"
      ]
     },
     "metadata": {
      "needs_background": "light"
     },
     "output_type": "display_data"
    }
   ],
   "source": [
    "import itertools\n",
    "\n",
    "fig, ((a0, a1), (a2, a3)) = plt.subplots(2, 2)\n",
    "\n",
    "df_out_range = df.copy()\n",
    "label_nutrient = list(map(lambda l: l[:-6], label_delta))\n",
    "for label in label_nutrient:\n",
    "    df_out_range[label] = df_out_range[label + '_delta'].notnull()\n",
    "\n",
    "fig.set_size_inches(18.5, 10.5)\n",
    "for ax, category_list in zip((a0, a1, a2, a3), itertools.chain(map(lambda x: [x], CATEGORIES), [CATEGORIES])):\n",
    "    df_cur = df_out_range[df_out_range['category'].isin(category_list)]\n",
    "    \n",
    "    ax.set_title(f'% of Combinations Where Each Nutrient is Out of Range in {category_list}')\n",
    "    for tick in ax.get_xticklabels():\n",
    "        tick.set_rotation(90)\n",
    "    ax.set_ylim((0, 1))\n",
    "    ax.bar(label_nutrient, list(df_cur[n].sum() / len(df_cur) for n in label_nutrient))\n",
    "\n",
    "plt.subplots_adjust(hspace=0.5)"
   ]
  },
  {
   "cell_type": "code",
   "execution_count": 92,
   "metadata": {},
   "outputs": [
    {
     "name": "stdout",
     "output_type": "stream",
     "text": [
      "Random menu sample for category breakfast, using menu 'Breakfast on Tuesday, March 29, 2022' with 1836 combinations\n",
      "- protein: 83.7% combinations out of range\n",
      "- carbohydrate: 95.6% combinations out of range\n",
      "- calories: 63.6% combinations out of range\n",
      "- total_fat: 98.5% combinations out of range\n",
      "- saturated_fat: 80.8% combinations out of range\n",
      "- sodium: 48.4% combinations out of range\n",
      "- calcium: 47.1% combinations out of range\n",
      "- iron: 7.3% combinations out of range\n",
      "- vitamin_a: 88.1% combinations out of range\n",
      "- vitamin_c: 84.2% combinations out of range\n",
      "- vitamin_d: 91.9% combinations out of range\n",
      "- sugar: 100.0% combinations out of range\n",
      "- cholesterol: 58.2% combinations out of range\n",
      "- fiber: 70.5% combinations out of range\n",
      "- potassium: 62.1% combinations out of range\n",
      "\n",
      "Random menu sample for category lunch, using menu 'Lunch on Saturday, April 02, 2022' with 2754 combinations\n",
      "- protein: 91.5% combinations out of range\n",
      "- carbohydrate: 86.5% combinations out of range\n",
      "- calories: 44.3% combinations out of range\n",
      "- total_fat: 100.0% combinations out of range\n",
      "- saturated_fat: 85.8% combinations out of range\n",
      "- sodium: 82.3% combinations out of range\n",
      "- calcium: 70.1% combinations out of range\n",
      "- iron: 21.5% combinations out of range\n",
      "- vitamin_a: 100.0% combinations out of range\n",
      "- vitamin_c: 16.7% combinations out of range\n",
      "- vitamin_d: 100.0% combinations out of range\n",
      "- sugar: 93.3% combinations out of range\n",
      "- cholesterol: 41.5% combinations out of range\n",
      "- fiber: 22.7% combinations out of range\n",
      "- potassium: 6.0% combinations out of range\n",
      "\n",
      "Random menu sample for category dinner, using menu 'Dinner on Monday, March 07, 2022' with 2754 combinations\n",
      "- protein: 92.8% combinations out of range\n",
      "- carbohydrate: 97.1% combinations out of range\n",
      "- calories: 51.4% combinations out of range\n",
      "- total_fat: 98.5% combinations out of range\n",
      "- saturated_fat: 87.7% combinations out of range\n",
      "- sodium: 87.0% combinations out of range\n",
      "- calcium: 47.5% combinations out of range\n",
      "- iron: 38.3% combinations out of range\n",
      "- vitamin_a: 100.0% combinations out of range\n",
      "- vitamin_c: 4.8% combinations out of range\n",
      "- vitamin_d: 84.6% combinations out of range\n",
      "- sugar: 88.8% combinations out of range\n",
      "- cholesterol: 49.4% combinations out of range\n",
      "- fiber: 27.5% combinations out of range\n",
      "- potassium: 9.5% combinations out of range\n",
      "\n"
     ]
    }
   ],
   "source": [
    "for category in CATEGORIES:\n",
    "    sample_name = df_out_range[df_out_range['category'] == category].sample()['Name'].values[0]\n",
    "    df_cur = df_out_range[df_out_range['Name'] == sample_name]\n",
    "    print(f'Random menu sample for category {category}, using menu \\'{sample_name}\\' with {len(df_cur)} combinations')\n",
    "    for label in label_nutrient:\n",
    "        print(f'- {label}: {df_cur[label].sum() / len(df_cur) * 100:.1f}% combinations out of range')\n",
    "    print()"
   ]
  },
  {
   "cell_type": "code",
   "execution_count": 93,
   "metadata": {},
   "outputs": [
    {
     "name": "stdout",
     "output_type": "stream",
     "text": [
      "Random menu sample for FEMALE student #27 with 1833 combinations\n",
      "- Sex: FEMALE\n",
      "- Height: 151.7840291\n",
      "- Weight: 79.02033192\n",
      "- Health_Goal: improve_tone\n",
      "- Activity: heavy\n",
      "\n",
      "- protein: 92.2% combinations out of range\n",
      "- carbohydrate: 95.3% combinations out of range\n",
      "- calories: 51.8% combinations out of range\n",
      "- total_fat: 99.5% combinations out of range\n",
      "- saturated_fat: 82.4% combinations out of range\n",
      "- sodium: 75.3% combinations out of range\n",
      "- calcium: 53.9% combinations out of range\n",
      "- iron: 32.4% combinations out of range\n",
      "- vitamin_a: 99.7% combinations out of range\n",
      "- vitamin_c: 22.3% combinations out of range\n",
      "- vitamin_d: 94.1% combinations out of range\n",
      "- sugar: 87.2% combinations out of range\n",
      "- cholesterol: 41.6% combinations out of range\n",
      "- fiber: 34.2% combinations out of range\n",
      "- potassium: 20.0% combinations out of range\n",
      "\n",
      "Random menu sample for MALE student #39 with 1833 combinations\n",
      "- Sex: MALE\n",
      "- Height: 177.6775675\n",
      "- Weight: 94.53569257\n",
      "- Health_Goal: athletic_performance\n",
      "- Activity: moderate\n",
      "\n",
      "- protein: 86.5% combinations out of range\n",
      "- carbohydrate: 88.8% combinations out of range\n",
      "- calories: 54.7% combinations out of range\n",
      "- total_fat: 99.1% combinations out of range\n",
      "- saturated_fat: 78.9% combinations out of range\n",
      "- sodium: 76.1% combinations out of range\n",
      "- calcium: 54.8% combinations out of range\n",
      "- iron: 23.7% combinations out of range\n",
      "- vitamin_a: 99.4% combinations out of range\n",
      "- vitamin_c: 20.3% combinations out of range\n",
      "- vitamin_d: 98.7% combinations out of range\n",
      "- sugar: 90.5% combinations out of range\n",
      "- cholesterol: 32.1% combinations out of range\n",
      "- fiber: 24.1% combinations out of range\n",
      "- potassium: 22.1% combinations out of range\n",
      "\n"
     ]
    }
   ],
   "source": [
    "SEXES = df['Sex'].unique()\n",
    "TRAITS = ['Sex', 'Height', 'Weight', 'Health_Goal', 'Activity']\n",
    "\n",
    "# student #s are not unique totally.  Each # has 1 female, 1 male student\n",
    "for sex in SEXES:\n",
    "    sample_id = df_out_range.sample()['Student_Number'].values[0]\n",
    "    df_cur = df_out_range[(df_out_range['Student_Number'] == sample_id) & (df_out_range['Sex'] == sex)]\n",
    "    print(f'Random menu sample for {sex} student #{sample_id} with {len(df_cur)} combinations')\n",
    "    for trait_label in TRAITS:\n",
    "        print(f'- {trait_label}: {df_cur[trait_label].values[0]}')\n",
    "    print()\n",
    "    for label in label_nutrient:\n",
    "        print(f'- {label}: {df_cur[label].sum() / len(df_cur) * 100:.1f}% combinations out of range')\n",
    "    print()"
   ]
  },
  {
   "cell_type": "markdown",
   "metadata": {},
   "source": [
    "# Food Popularity Score\n",
    "* Most/least popular combinations\n",
    "* Most/least popular items\n",
    "* Most popular items per health goal\n",
    "* Most popular items per activity level"
   ]
  },
  {
   "cell_type": "code",
   "execution_count": 94,
   "metadata": {},
   "outputs": [
    {
     "name": "stdout",
     "output_type": "stream",
     "text": [
      "Number of combinations with frequency 1: 954\n",
      "Notably, the least popular choices isn't super useful since there are so many\n"
     ]
    },
    {
     "data": {
      "text/html": [
       "<div>\n",
       "<style scoped>\n",
       "    .dataframe tbody tr th:only-of-type {\n",
       "        vertical-align: middle;\n",
       "    }\n",
       "\n",
       "    .dataframe tbody tr th {\n",
       "        vertical-align: top;\n",
       "    }\n",
       "\n",
       "    .dataframe thead th {\n",
       "        text-align: right;\n",
       "    }\n",
       "</style>\n",
       "<table border=\"1\" class=\"dataframe\">\n",
       "  <thead>\n",
       "    <tr style=\"text-align: right;\">\n",
       "      <th></th>\n",
       "      <th>Combination</th>\n",
       "      <th>Combination_Name</th>\n",
       "    </tr>\n",
       "  </thead>\n",
       "  <tbody>\n",
       "    <tr>\n",
       "      <th>[1047, 1001, 1023]</th>\n",
       "      <td>118</td>\n",
       "      <td>[\"Scrambled Eggs\", \"Berry Berry Kale Smoothie\"...</td>\n",
       "    </tr>\n",
       "    <tr>\n",
       "      <th>[1047, 1032, 1023]</th>\n",
       "      <td>118</td>\n",
       "      <td>[\"Scrambled Eggs\", \"Onions and Peppers\", \"Fren...</td>\n",
       "    </tr>\n",
       "    <tr>\n",
       "      <th>[1403, 1442, 1359]</th>\n",
       "      <td>92</td>\n",
       "      <td>[\"Orange Chicken\", \"Sauteed Kale\", \"Spanish Ri...</td>\n",
       "    </tr>\n",
       "    <tr>\n",
       "      <th>[1406, 1380, 1359]</th>\n",
       "      <td>92</td>\n",
       "      <td>[\"Pork Egg Roll\", \"Carrots with Ginger\", \"Span...</td>\n",
       "    </tr>\n",
       "    <tr>\n",
       "      <th>[1406, 1442, 1420]</th>\n",
       "      <td>92</td>\n",
       "      <td>[\"Pork Egg Roll\", \"Sauteed Kale\", \"Vegetable L...</td>\n",
       "    </tr>\n",
       "    <tr>\n",
       "      <th>...</th>\n",
       "      <td>...</td>\n",
       "      <td>...</td>\n",
       "    </tr>\n",
       "    <tr>\n",
       "      <th>[1601, 1156, 1223]</th>\n",
       "      <td>1</td>\n",
       "      <td>[\"Stuffed Shells Florentine\", \"Garlic Thyme Ga...</td>\n",
       "    </tr>\n",
       "    <tr>\n",
       "      <th>[1291, 1395, 1136]</th>\n",
       "      <td>1</td>\n",
       "      <td>[\"Turmeric Mushrooms\", \"Keema (Ground Turkey w...</td>\n",
       "    </tr>\n",
       "    <tr>\n",
       "      <th>[1601, 1524, 1266]</th>\n",
       "      <td>1</td>\n",
       "      <td>[\"Stuffed Shells Florentine\", \"Garlic Rosemary...</td>\n",
       "    </tr>\n",
       "    <tr>\n",
       "      <th>[1601, 1524, 1589]</th>\n",
       "      <td>1</td>\n",
       "      <td>[\"Stuffed Shells Florentine\", \"Garlic Rosemary...</td>\n",
       "    </tr>\n",
       "    <tr>\n",
       "      <th>[1149, 1208, 1223]</th>\n",
       "      <td>1</td>\n",
       "      <td>[\"Corn Salad\", \"Chicken Parmesan\", \"Green Beans\"]</td>\n",
       "    </tr>\n",
       "  </tbody>\n",
       "</table>\n",
       "<p>10567 rows × 2 columns</p>\n",
       "</div>"
      ],
      "text/plain": [
       "                    Combination  \\\n",
       "[1047, 1001, 1023]          118   \n",
       "[1047, 1032, 1023]          118   \n",
       "[1403, 1442, 1359]           92   \n",
       "[1406, 1380, 1359]           92   \n",
       "[1406, 1442, 1420]           92   \n",
       "...                         ...   \n",
       "[1601, 1156, 1223]            1   \n",
       "[1291, 1395, 1136]            1   \n",
       "[1601, 1524, 1266]            1   \n",
       "[1601, 1524, 1589]            1   \n",
       "[1149, 1208, 1223]            1   \n",
       "\n",
       "                                                     Combination_Name  \n",
       "[1047, 1001, 1023]  [\"Scrambled Eggs\", \"Berry Berry Kale Smoothie\"...  \n",
       "[1047, 1032, 1023]  [\"Scrambled Eggs\", \"Onions and Peppers\", \"Fren...  \n",
       "[1403, 1442, 1359]  [\"Orange Chicken\", \"Sauteed Kale\", \"Spanish Ri...  \n",
       "[1406, 1380, 1359]  [\"Pork Egg Roll\", \"Carrots with Ginger\", \"Span...  \n",
       "[1406, 1442, 1420]  [\"Pork Egg Roll\", \"Sauteed Kale\", \"Vegetable L...  \n",
       "...                                                               ...  \n",
       "[1601, 1156, 1223]  [\"Stuffed Shells Florentine\", \"Garlic Thyme Ga...  \n",
       "[1291, 1395, 1136]  [\"Turmeric Mushrooms\", \"Keema (Ground Turkey w...  \n",
       "[1601, 1524, 1266]  [\"Stuffed Shells Florentine\", \"Garlic Rosemary...  \n",
       "[1601, 1524, 1589]  [\"Stuffed Shells Florentine\", \"Garlic Rosemary...  \n",
       "[1149, 1208, 1223]  [\"Corn Salad\", \"Chicken Parmesan\", \"Green Beans\"]  \n",
       "\n",
       "[10567 rows x 2 columns]"
      ]
     },
     "execution_count": 94,
     "metadata": {},
     "output_type": "execute_result"
    }
   ],
   "source": [
    "import json\n",
    "\n",
    "name_dict = {k: v for k, v in zip(df_item['pk'], df_item['name'])}\n",
    "\n",
    "def combination_name(comb):\n",
    "    res = [name_dict[pk] for pk in json.loads(comb)]\n",
    "    return json.dumps(res)\n",
    "\n",
    "df_combos = pd.DataFrame(pd.value_counts(df['Combination']))\n",
    "df_combos['Combination_Name'] = df_combos.index.map(combination_name)\n",
    "\n",
    "df_combos.to_csv('table_1_combo_freq.csv')\n",
    "\n",
    "print(f'Number of combinations with frequency 1: {len(df_combos[df_combos[\"Combination\"] == 1])}')\n",
    "print('Notably, the least popular choices isn\\'t super useful since there are so many')\n",
    "df_combos"
   ]
  },
  {
   "cell_type": "code",
   "execution_count": 95,
   "metadata": {},
   "outputs": [
    {
     "name": "stdout",
     "output_type": "stream",
     "text": [
      "Number of combinations with frequency 1: 954\n",
      "Notably, the least popular choices isn't super useful since there are so many\n"
     ]
    },
    {
     "data": {
      "text/html": [
       "<div>\n",
       "<style scoped>\n",
       "    .dataframe tbody tr th:only-of-type {\n",
       "        vertical-align: middle;\n",
       "    }\n",
       "\n",
       "    .dataframe tbody tr th {\n",
       "        vertical-align: top;\n",
       "    }\n",
       "\n",
       "    .dataframe thead th {\n",
       "        text-align: right;\n",
       "    }\n",
       "</style>\n",
       "<table border=\"1\" class=\"dataframe\">\n",
       "  <thead>\n",
       "    <tr style=\"text-align: right;\">\n",
       "      <th></th>\n",
       "      <th>Count</th>\n",
       "      <th>Combination_Name</th>\n",
       "    </tr>\n",
       "  </thead>\n",
       "  <tbody>\n",
       "    <tr>\n",
       "      <th>[1047, 1001, 1023]</th>\n",
       "      <td>118</td>\n",
       "      <td>[\"Scrambled Eggs\", \"Berry Berry Kale Smoothie\"...</td>\n",
       "    </tr>\n",
       "    <tr>\n",
       "      <th>[1047, 1032, 1023]</th>\n",
       "      <td>118</td>\n",
       "      <td>[\"Scrambled Eggs\", \"Onions and Peppers\", \"Fren...</td>\n",
       "    </tr>\n",
       "    <tr>\n",
       "      <th>[1403, 1442, 1359]</th>\n",
       "      <td>92</td>\n",
       "      <td>[\"Orange Chicken\", \"Sauteed Kale\", \"Spanish Ri...</td>\n",
       "    </tr>\n",
       "    <tr>\n",
       "      <th>[1406, 1380, 1359]</th>\n",
       "      <td>92</td>\n",
       "      <td>[\"Pork Egg Roll\", \"Carrots with Ginger\", \"Span...</td>\n",
       "    </tr>\n",
       "    <tr>\n",
       "      <th>[1406, 1442, 1420]</th>\n",
       "      <td>92</td>\n",
       "      <td>[\"Pork Egg Roll\", \"Sauteed Kale\", \"Vegetable L...</td>\n",
       "    </tr>\n",
       "    <tr>\n",
       "      <th>...</th>\n",
       "      <td>...</td>\n",
       "      <td>...</td>\n",
       "    </tr>\n",
       "    <tr>\n",
       "      <th>[1601, 1156, 1223]</th>\n",
       "      <td>1</td>\n",
       "      <td>[\"Stuffed Shells Florentine\", \"Garlic Thyme Ga...</td>\n",
       "    </tr>\n",
       "    <tr>\n",
       "      <th>[1291, 1395, 1136]</th>\n",
       "      <td>1</td>\n",
       "      <td>[\"Turmeric Mushrooms\", \"Keema (Ground Turkey w...</td>\n",
       "    </tr>\n",
       "    <tr>\n",
       "      <th>[1601, 1524, 1266]</th>\n",
       "      <td>1</td>\n",
       "      <td>[\"Stuffed Shells Florentine\", \"Garlic Rosemary...</td>\n",
       "    </tr>\n",
       "    <tr>\n",
       "      <th>[1601, 1524, 1589]</th>\n",
       "      <td>1</td>\n",
       "      <td>[\"Stuffed Shells Florentine\", \"Garlic Rosemary...</td>\n",
       "    </tr>\n",
       "    <tr>\n",
       "      <th>[1149, 1208, 1223]</th>\n",
       "      <td>1</td>\n",
       "      <td>[\"Corn Salad\", \"Chicken Parmesan\", \"Green Beans\"]</td>\n",
       "    </tr>\n",
       "  </tbody>\n",
       "</table>\n",
       "<p>10567 rows × 2 columns</p>\n",
       "</div>"
      ],
      "text/plain": [
       "                    Count                                   Combination_Name\n",
       "[1047, 1001, 1023]    118  [\"Scrambled Eggs\", \"Berry Berry Kale Smoothie\"...\n",
       "[1047, 1032, 1023]    118  [\"Scrambled Eggs\", \"Onions and Peppers\", \"Fren...\n",
       "[1403, 1442, 1359]     92  [\"Orange Chicken\", \"Sauteed Kale\", \"Spanish Ri...\n",
       "[1406, 1380, 1359]     92  [\"Pork Egg Roll\", \"Carrots with Ginger\", \"Span...\n",
       "[1406, 1442, 1420]     92  [\"Pork Egg Roll\", \"Sauteed Kale\", \"Vegetable L...\n",
       "...                   ...                                                ...\n",
       "[1601, 1156, 1223]      1  [\"Stuffed Shells Florentine\", \"Garlic Thyme Ga...\n",
       "[1291, 1395, 1136]      1  [\"Turmeric Mushrooms\", \"Keema (Ground Turkey w...\n",
       "[1601, 1524, 1266]      1  [\"Stuffed Shells Florentine\", \"Garlic Rosemary...\n",
       "[1601, 1524, 1589]      1  [\"Stuffed Shells Florentine\", \"Garlic Rosemary...\n",
       "[1149, 1208, 1223]      1  [\"Corn Salad\", \"Chicken Parmesan\", \"Green Beans\"]\n",
       "\n",
       "[10567 rows x 2 columns]"
      ]
     },
     "execution_count": 95,
     "metadata": {},
     "output_type": "execute_result"
    }
   ],
   "source": [
    "import json\n",
    "\n",
    "name_dict = {k: v for k, v in zip(df_item['pk'], df_item['name'])}\n",
    "\n",
    "def combination_name(comb):\n",
    "    res = [name_dict[pk] for pk in json.loads(comb)]\n",
    "    return json.dumps(res)\n",
    "\n",
    "df_combos = pd.DataFrame(pd.value_counts(df['Combination']))\n",
    "df_combos['Combination_Name'] = df_combos.index.map(combination_name)\n",
    "df_combos = df_combos.rename({'Combination': 'Count'}, axis=1)\n",
    "\n",
    "print(f'Number of combinations with frequency 1: {len(df_combos[df_combos[\"Count\"] == 1])}')\n",
    "print('Notably, the least popular choices isn\\'t super useful since there are so many')\n",
    "df_combos"
   ]
  },
  {
   "cell_type": "code",
   "execution_count": 96,
   "metadata": {},
   "outputs": [
    {
     "data": {
      "text/html": [
       "<div>\n",
       "<style scoped>\n",
       "    .dataframe tbody tr th:only-of-type {\n",
       "        vertical-align: middle;\n",
       "    }\n",
       "\n",
       "    .dataframe tbody tr th {\n",
       "        vertical-align: top;\n",
       "    }\n",
       "\n",
       "    .dataframe thead th {\n",
       "        text-align: right;\n",
       "    }\n",
       "</style>\n",
       "<table border=\"1\" class=\"dataframe\">\n",
       "  <thead>\n",
       "    <tr style=\"text-align: right;\">\n",
       "      <th></th>\n",
       "      <th>Count</th>\n",
       "      <th>Item_Name</th>\n",
       "    </tr>\n",
       "  </thead>\n",
       "  <tbody>\n",
       "    <tr>\n",
       "      <th>1047</th>\n",
       "      <td>8375</td>\n",
       "      <td>Scrambled Eggs</td>\n",
       "    </tr>\n",
       "    <tr>\n",
       "      <th>1101</th>\n",
       "      <td>6039</td>\n",
       "      <td>Cilantro Lime Brown Rice</td>\n",
       "    </tr>\n",
       "    <tr>\n",
       "      <th>1069</th>\n",
       "      <td>5568</td>\n",
       "      <td>Cheese Pizza</td>\n",
       "    </tr>\n",
       "    <tr>\n",
       "      <th>1085</th>\n",
       "      <td>4767</td>\n",
       "      <td>White Pesto Pizza</td>\n",
       "    </tr>\n",
       "    <tr>\n",
       "      <th>1074</th>\n",
       "      <td>4674</td>\n",
       "      <td>Grandma Pizza</td>\n",
       "    </tr>\n",
       "    <tr>\n",
       "      <th>...</th>\n",
       "      <td>...</td>\n",
       "      <td>...</td>\n",
       "    </tr>\n",
       "    <tr>\n",
       "      <th>1605</th>\n",
       "      <td>9</td>\n",
       "      <td>Vegetable Lasagna</td>\n",
       "    </tr>\n",
       "    <tr>\n",
       "      <th>1448</th>\n",
       "      <td>9</td>\n",
       "      <td>Thai Sweet Potatoes</td>\n",
       "    </tr>\n",
       "    <tr>\n",
       "      <th>1318</th>\n",
       "      <td>8</td>\n",
       "      <td>Lime &amp; Sea Salt Tortilla Chips</td>\n",
       "    </tr>\n",
       "    <tr>\n",
       "      <th>1409</th>\n",
       "      <td>6</td>\n",
       "      <td>Roasted Butternut and Apple Salad</td>\n",
       "    </tr>\n",
       "    <tr>\n",
       "      <th>1707</th>\n",
       "      <td>6</td>\n",
       "      <td>Roasted Brussels Sprouts</td>\n",
       "    </tr>\n",
       "  </tbody>\n",
       "</table>\n",
       "<p>641 rows × 2 columns</p>\n",
       "</div>"
      ],
      "text/plain": [
       "      Count                          Item_Name\n",
       "1047   8375                     Scrambled Eggs\n",
       "1101   6039           Cilantro Lime Brown Rice\n",
       "1069   5568                       Cheese Pizza\n",
       "1085   4767                  White Pesto Pizza\n",
       "1074   4674                      Grandma Pizza\n",
       "...     ...                                ...\n",
       "1605      9                  Vegetable Lasagna\n",
       "1448      9                Thai Sweet Potatoes\n",
       "1318      8     Lime & Sea Salt Tortilla Chips\n",
       "1409      6  Roasted Butternut and Apple Salad\n",
       "1707      6           Roasted Brussels Sprouts\n",
       "\n",
       "[641 rows x 2 columns]"
      ]
     },
     "execution_count": 96,
     "metadata": {},
     "output_type": "execute_result"
    }
   ],
   "source": [
    "# split combinations into array of 3-tuples, and then transpose to get 3 lists\n",
    "def item_name(pk):\n",
    "    return name_dict[pk]\n",
    "\n",
    "def get_items(df):\n",
    "    items = list(zip(*df['Combination'].map(json.loads)))\n",
    "    all_items = list(itertools.chain(*items))\n",
    "\n",
    "    df_combos = pd.DataFrame(pd.value_counts(all_items))\n",
    "    df_combos['Item_Name'] = df_combos.index.map(item_name)\n",
    "    df_combos = df_combos.rename({0: 'Count'}, axis=1)\n",
    "    \n",
    "    return df_combos\n",
    "\n",
    "get_items(df).to_csv('table_2_item_freq.csv')\n",
    "\n",
    "get_items(df)"
   ]
  },
  {
   "cell_type": "code",
   "execution_count": 97,
   "metadata": {},
   "outputs": [
    {
     "name": "stdout",
     "output_type": "stream",
     "text": [
      "== [ Top Items For Health Goal lose_weight ] ==\n",
      "      Count                 Item_Name\n",
      "1667   1119  Shredded Iceberg Lettuce\n",
      "1101   1086  Cilantro Lime Brown Rice\n",
      "1047   1079            Scrambled Eggs\n",
      "1074   1071             Grandma Pizza\n",
      "1000    919                Omelet Bar\n",
      "\n",
      "== [ Top Items For Health Goal build_muscle ] ==\n",
      "      Count                 Item_Name\n",
      "1047   2085            Scrambled Eggs\n",
      "1085   1390         White Pesto Pizza\n",
      "1069   1286              Cheese Pizza\n",
      "1101   1128  Cilantro Lime Brown Rice\n",
      "1046   1026           Sauteed Spinach\n",
      "\n",
      "== [ Top Items For Health Goal athletic_performance ] ==\n",
      "      Count                 Item_Name\n",
      "1047   2173            Scrambled Eggs\n",
      "1101   1485  Cilantro Lime Brown Rice\n",
      "1069   1182              Cheese Pizza\n",
      "1348   1080              Jasmine Rice\n",
      "1046   1053           Sauteed Spinach\n",
      "\n",
      "== [ Top Items For Health Goal improve_tone ] ==\n",
      "      Count                 Item_Name\n",
      "1047   1690            Scrambled Eggs\n",
      "1101   1353  Cilantro Lime Brown Rice\n",
      "1069   1334              Cheese Pizza\n",
      "1085   1270         White Pesto Pizza\n",
      "1074   1065             Grandma Pizza\n",
      "\n",
      "== [ Top Items For Health Goal improve_health ] ==\n",
      "      Count                 Item_Name\n",
      "1047   1348            Scrambled Eggs\n",
      "1101    987  Cilantro Lime Brown Rice\n",
      "1074    942             Grandma Pizza\n",
      "1069    919              Cheese Pizza\n",
      "1085    791         White Pesto Pizza\n",
      "\n"
     ]
    }
   ],
   "source": [
    "HEALTH_GOALS = ['lose_weight', 'build_muscle', 'athletic_performance', 'improve_tone', 'improve_health']\n",
    "\n",
    "for goal in HEALTH_GOALS:\n",
    "    print(f'== [ Top Items For Health Goal {goal} ] ==')\n",
    "    df_cur = get_items(df[df['Health_Goal'] == goal])[:5]\n",
    "    print(df_cur)\n",
    "    print()"
   ]
  },
  {
   "cell_type": "code",
   "execution_count": 98,
   "metadata": {},
   "outputs": [
    {
     "name": "stdout",
     "output_type": "stream",
     "text": [
      "== [ Top Items For Activity Level sedentary ] ==\n",
      "Empty DataFrame\n",
      "Columns: [Count, Item_Name]\n",
      "Index: []\n",
      "\n",
      "== [ Top Items For Activity Level mild ] ==\n",
      "      Count                 Item_Name\n",
      "1047   1710            Scrambled Eggs\n",
      "1101   1581  Cilantro Lime Brown Rice\n",
      "1074   1443             Grandma Pizza\n",
      "1069   1399              Cheese Pizza\n",
      "1000   1296                Omelet Bar\n",
      "\n",
      "== [ Top Items For Activity Level moderate ] ==\n",
      "      Count                 Item_Name\n",
      "1047   3609            Scrambled Eggs\n",
      "1101   2586  Cilantro Lime Brown Rice\n",
      "1069   2360              Cheese Pizza\n",
      "1085   1999         White Pesto Pizza\n",
      "1046   1953           Sauteed Spinach\n",
      "\n",
      "== [ Top Items For Activity Level heavy ] ==\n",
      "      Count                 Item_Name\n",
      "1047   3056            Scrambled Eggs\n",
      "1101   1872  Cilantro Lime Brown Rice\n",
      "1069   1809              Cheese Pizza\n",
      "1085   1686         White Pesto Pizza\n",
      "1046   1503           Sauteed Spinach\n",
      "\n",
      "== [ Top Items For Activity Level extreme ] ==\n",
      "Empty DataFrame\n",
      "Columns: [Count, Item_Name]\n",
      "Index: []\n",
      "\n"
     ]
    }
   ],
   "source": [
    "ACTIVITY_LEVELS = ['sedentary', 'mild', 'moderate', 'heavy', 'extreme']\n",
    "\n",
    "for activity_level in ACTIVITY_LEVELS:\n",
    "    print(f'== [ Top Items For Activity Level {activity_level} ] ==')\n",
    "    df_cur = get_items(df[df['Activity'] == activity_level])[:5]\n",
    "    print(df_cur)\n",
    "    print()"
   ]
  }
 ],
 "metadata": {
  "kernelspec": {
   "display_name": "Python 3",
   "language": "python",
   "name": "python3"
  },
  "language_info": {
   "codemirror_mode": {
    "name": "ipython",
    "version": 3
   },
   "file_extension": ".py",
   "mimetype": "text/x-python",
   "name": "python",
   "nbconvert_exporter": "python",
   "pygments_lexer": "ipython3",
   "version": "3.7.3"
  }
 },
 "nbformat": 4,
 "nbformat_minor": 5
}
